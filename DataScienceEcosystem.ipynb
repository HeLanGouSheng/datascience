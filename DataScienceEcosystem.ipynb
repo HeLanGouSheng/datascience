{
 "cells": [
  {
   "cell_type": "markdown",
   "id": "e11d64da-314a-45ab-8d79-eb257f0303fd",
   "metadata": {},
   "source": [
    "# Data Science Tools and Ecosystem"
   ]
  },
  {
   "cell_type": "markdown",
   "id": "5779157b-6a7c-42a7-9877-796f22206251",
   "metadata": {},
   "source": [
    "## Author\n",
    "Yijun Wu"
   ]
  },
  {
   "cell_type": "markdown",
   "id": "c3a79d68-b48b-4307-a670-b89336a7488e",
   "metadata": {
    "tags": []
   },
   "source": [
    "In this notebook, Data Science Tools and Ecosystem are summarized."
   ]
  },
  {
   "cell_type": "markdown",
   "id": "b971d77c-c458-4bc2-8c6f-2909f1ec5b01",
   "metadata": {},
   "source": [
    "**Objectives:**\n",
    "+ List popular languages for Data Science\n",
    "+ List commonly used libraries used by Data Scientists\n",
    "+ List Data Science Tools"
   ]
  },
  {
   "cell_type": "markdown",
   "id": "d558f4da-7ca8-492f-8406-46749daecd0f",
   "metadata": {},
   "source": [
    "Some of the popular languages that Data Scientists use are:\n",
    "1. Python\n",
    "2. R\n",
    "3. SQL"
   ]
  },
  {
   "cell_type": "markdown",
   "id": "0981a314-bf4d-4f60-9818-eeb435cd7e6b",
   "metadata": {
    "tags": []
   },
   "source": [
    "Some of the commonly used libraries used by Data Scientists include:\n",
    "1. NumPy\n",
    "2. Pandas\n",
    "3. Seaborn"
   ]
  },
  {
   "cell_type": "markdown",
   "id": "1f3a4516-6f82-41c3-abc5-1e05b2e9b65c",
   "metadata": {},
   "source": [
    "|   Data Science Tools  | \n",
    "|  :----------------:   |\n",
    "|      Anaconda         |\n",
    "|       VS Code         | \n",
    "| Google Cloud Platform |"
   ]
  },
  {
   "cell_type": "markdown",
   "id": "f794b30c-5677-4af1-9696-aee305f488c1",
   "metadata": {},
   "source": [
    "### Below are a few examples of evaluating arithmetic expressions in Python"
   ]
  },
  {
   "cell_type": "code",
   "execution_count": 5,
   "id": "e1e5b6e4-363c-454d-a54b-199eff458e69",
   "metadata": {
    "tags": []
   },
   "outputs": [
    {
     "data": {
      "text/plain": [
       "17"
      ]
     },
     "execution_count": 5,
     "metadata": {},
     "output_type": "execute_result"
    }
   ],
   "source": [
    "#This a simple arithmetic expression to mutiply then add integers\n",
    "(3*4)+5"
   ]
  },
  {
   "cell_type": "code",
   "execution_count": 6,
   "id": "a6eeb0a5-e2e4-4fd7-90a1-1aee1b9df481",
   "metadata": {
    "tags": []
   },
   "outputs": [
    {
     "data": {
      "text/plain": [
       "3.3333333333333335"
      ]
     },
     "execution_count": 6,
     "metadata": {},
     "output_type": "execute_result"
    }
   ],
   "source": [
    "#This will convert 200 minutes to hours by diving by 60\n",
    "200/60"
   ]
  }
 ],
 "metadata": {
  "kernelspec": {
   "display_name": "Python 3 (ipykernel)",
   "language": "python",
   "name": "python3"
  },
  "language_info": {
   "codemirror_mode": {
    "name": "ipython",
    "version": 3
   },
   "file_extension": ".py",
   "mimetype": "text/x-python",
   "name": "python",
   "nbconvert_exporter": "python",
   "pygments_lexer": "ipython3",
   "version": "3.11.5"
  }
 },
 "nbformat": 4,
 "nbformat_minor": 5
}
